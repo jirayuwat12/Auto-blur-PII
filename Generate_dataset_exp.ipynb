{
 "cells": [
  {
   "cell_type": "markdown",
   "metadata": {},
   "source": [
    "# Import necessary libraries"
   ]
  },
  {
   "cell_type": "code",
   "execution_count": null,
   "metadata": {},
   "outputs": [],
   "source": [
    "import cv2\n",
    "import torch\n",
    "import torchvision\n",
    "import scipy\n",
    "import matplotlib.pyplot as plt\n",
    "import numpy as np\n",
    "import random\n",
    "import os\n",
    "import xml.etree.ElementTree as ET\n",
    "from tqdm import tqdm"
   ]
  },
  {
   "cell_type": "markdown",
   "metadata": {},
   "source": [
    "# Utilities function"
   ]
  },
  {
   "cell_type": "code",
   "execution_count": null,
   "metadata": {},
   "outputs": [],
   "source": [
    "def place_image(bg,\n",
    "                card,\n",
    "                x = None,\n",
    "                y = None,\n",
    "                rotate = 0,\n",
    "                card_scale=0.3):\n",
    "    # copy\n",
    "    bg = bg.copy()\n",
    "    card = card.copy()\n",
    "    \n",
    "    # resize card\n",
    "    card = cv2.resize(card, (int(card.shape[1] * card_scale), int(card.shape[0] * card_scale)))\n",
    "    if card.shape[0] > bg.shape[0] or card.shape[1] > bg.shape[1]:\n",
    "        card_scale = min(bg.shape[0] / card.shape[0], bg.shape[1] / card.shape[1])\n",
    "        card = cv2.resize(card, (int(card.shape[1] * card_scale), int(card.shape[0] * card_scale)))\n",
    "        \n",
    "    \n",
    "    # rotate card\n",
    "    if rotate != 0:\n",
    "        card = scipy.ndimage.rotate(card, rotate, reshape=True)\n",
    "\n",
    "    # set x, y if none -> random\n",
    "    try:\n",
    "        if x is None:\n",
    "            x = random.randint(0, bg.shape[1] - card.shape[1])\n",
    "        if y is None:\n",
    "            y = random.randint(0, bg.shape[0] - card.shape[0])\n",
    "    except:\n",
    "        x = 0\n",
    "        y = 0\n",
    "    # place card avoid background of rotated card and avoid overflow\n",
    "    try:\n",
    "        if rotate != 0:\n",
    "            bg[y:y+card.shape[0], x:x+card.shape[1]] = np.where(card != 0, card, bg[y:y+card.shape[0], x:x+card.shape[1]])\n",
    "        else:\n",
    "            bg[y:y+card.shape[0], x:x+card.shape[1]] = card\n",
    "    except:\n",
    "        pass    \n",
    "    # blur image to make it more realistic\n",
    "    bg = cv2.GaussianBlur(bg, (5, 5), 0)\n",
    "\n",
    "    # histogram equalization\n",
    "    bg = cv2.cvtColor(bg, cv2.COLOR_BGR2HSV)\n",
    "    bg[:, :, 2] = cv2.equalizeHist(bg[:, :, 2])\n",
    "    bg = cv2.cvtColor(bg, cv2.COLOR_HSV2BGR)\n",
    "\n",
    "    # bounding block\n",
    "    bounding_block = {\n",
    "        'x': x,\n",
    "        'y': y,\n",
    "        'width': card.shape[1],\n",
    "        'height': card.shape[0],\n",
    "        'rotate': rotate,\n",
    "    }\n",
    "\n",
    "    return bg, bounding_block"
   ]
  },
  {
   "cell_type": "code",
   "execution_count": null,
   "metadata": {},
   "outputs": [],
   "source": [
    "def extract_annotation(xml_path):\n",
    "    # load annotation from .xml file\n",
    "    with open(xml_path) as f:\n",
    "        xml = f.read()\n",
    "\n",
    "    # parse xml\n",
    "    root = ET.fromstring(xml)\n",
    "    annotation = {}\n",
    "    for child in root:\n",
    "        if child.tag == 'size':\n",
    "            annotation['size'] = {}\n",
    "            for size in child:\n",
    "                annotation['size'][size.tag] = int(size.text if size.tag != 'depth' else 0)\n",
    "        elif child.tag == 'object':\n",
    "            if 'object' not in annotation:\n",
    "                annotation['object'] = []\n",
    "            obj = {}\n",
    "            for obj_child in child:\n",
    "                if obj_child.tag == 'name':\n",
    "                    obj['name'] = obj_child.text\n",
    "                elif obj_child.tag == 'bndbox':\n",
    "                    obj['bndbox'] = {}\n",
    "                    for bndbox in obj_child:\n",
    "                        obj['bndbox'][bndbox.tag] = float(bndbox.text)\n",
    "            annotation['object'].append(obj)\n",
    "    \n",
    "    return annotation"
   ]
  },
  {
   "cell_type": "code",
   "execution_count": null,
   "metadata": {},
   "outputs": [],
   "source": [
    "def place_card_to_bb(original_img,\n",
    "                     card,\n",
    "                     bounding_block):\n",
    "    '''\n",
    "    bounding block must in this structure\n",
    "    {\n",
    "        'x': x,\n",
    "        'y': y,\n",
    "        'width': card.shape[1],\n",
    "        'height': card.shape[0],\n",
    "        'rotate': rotate,\n",
    "    }\n",
    "    '''\n",
    "    # copy\n",
    "    bg = original_img.copy()\n",
    "    card = card.copy()\n",
    "\n",
    "    # resize card to bounding block\n",
    "    card = cv2.resize(card, (int(bounding_block['width']), int(bounding_block['height'])))\n",
    "    \n",
    "    # place card\n",
    "    x = int(bounding_block['x'])\n",
    "    y = int(bounding_block['y'])\n",
    "    bg[y:y+card.shape[0], x:x+card.shape[1]] = np.where(card != 0, card, bg[y:y+card.shape[0], x:x+card.shape[1]])\n",
    "\n",
    "    return bg\n",
    "    "
   ]
  },
  {
   "cell_type": "markdown",
   "metadata": {},
   "source": [
    "# Test : Place card to the background image"
   ]
  },
  {
   "cell_type": "code",
   "execution_count": null,
   "metadata": {},
   "outputs": [],
   "source": [
    "TARGET_SIZE = (512, 512)\n",
    "\n",
    "BG = cv2.imread('./asset/bg/1624549127.jpg')\n",
    "BG = cv2.resize(BG, TARGET_SIZE)\n",
    "CARD = cv2.imread('./asset/card/pii_card1.jpg')\n",
    "\n",
    "\n",
    "plt.subplot(1, 2, 1)\n",
    "plt.imshow(BG)\n",
    "plt.subplot(1, 2, 2)\n",
    "plt.imshow(CARD)\n",
    "plt.show()"
   ]
  },
  {
   "cell_type": "code",
   "execution_count": null,
   "metadata": {},
   "outputs": [],
   "source": [
    "plt.subplot(1, 2, 1)\n",
    "plt.title('BG')\n",
    "plt.imshow(BG)\n",
    "\n",
    "plt.subplot(1, 2, 2)\n",
    "plt.title('place_image')\n",
    "plt.imshow(place_image(BG.copy(), CARD, rotate=90)[0])\n",
    "\n",
    "plt.show()"
   ]
  },
  {
   "cell_type": "code",
   "execution_count": null,
   "metadata": {},
   "outputs": [],
   "source": [
    "for bg_name in os.listdir('./asset/bg'):\n",
    "    bg = cv2.imread(os.path.join('./asset/bg', bg_name))\n",
    "    bg = cv2.cvtColor(bg, cv2.COLOR_BGR2RGB)\n",
    "    bg = cv2.resize(bg, TARGET_SIZE)\n",
    "    for card in os.listdir('./asset/card'):\n",
    "        if random.random() > 0.5:\n",
    "            continue\n",
    "        card = cv2.imread(os.path.join('./asset/card', card))\n",
    "        card = cv2.cvtColor(card, cv2.COLOR_BGR2RGB)\n",
    "\n",
    "        rotate = np.random.normal(0, 10)\n",
    "        scale = np.random.uniform(0.1, 0.3)\n",
    "        replaced_bg, bounding_block = place_image(bg, card, rotate=rotate, )\n",
    "\n",
    "        plt.subplot(1, 3, 1)\n",
    "        plt.title('BG')\n",
    "        plt.imshow(bg)\n",
    "\n",
    "        plt.subplot(1, 3, 2)\n",
    "        plt.title('place_image')\n",
    "        plt.imshow(replaced_bg)\n",
    "\n",
    "        plt.subplot(1, 3, 3)\n",
    "        plt.title('bounding_block')\n",
    "        plt.imshow(replaced_bg)\n",
    "        plt.gca().add_patch(plt.Rectangle((bounding_block['x'], bounding_block['y']), bounding_block['width'], bounding_block['height'], linewidth=1, edgecolor='r', facecolor='none'))\n",
    "\n",
    "        plt.show()\n"
   ]
  },
  {
   "cell_type": "markdown",
   "metadata": {},
   "source": [
    "# Test : Place our card to replace the original card image"
   ]
  },
  {
   "cell_type": "code",
   "execution_count": null,
   "metadata": {},
   "outputs": [],
   "source": [
    "file_name = '20210611_21_03_24_000_2sQ7uoDSHQakPcTTKy9Ikfs5wWs1_F_3264_2448'\n",
    "# load image\n",
    "img = cv2.imread(f'./asset/visiting_card/id_card/{file_name}.jpg')\n",
    "\n",
    "# load annotation\n",
    "annotation = extract_annotation(f'./asset/visiting_card/annotation/annotation/{file_name}.xml')\n",
    "\n",
    "# draw bounding box\n",
    "for obj in annotation['object']:\n",
    "    img = cv2.rectangle(img, (int(obj['bndbox']['xmin']), int(obj['bndbox']['ymin'])), (int(obj['bndbox']['xmax']), int(obj['bndbox']['ymax'])), (0, 255, 0), 10)\n",
    "\n",
    "plt.subplot(1, 2, 1)\n",
    "plt.imshow(img)\n",
    "\n",
    "# load card\n",
    "card = cv2.imread('./asset/card/pii_card1.jpg')\n",
    "\n",
    "# place card to bounding box\n",
    "img = place_card_to_bb(img, card, {\n",
    "    'x' : annotation['object'][0]['bndbox']['xmin'],\n",
    "    'y' : annotation['object'][0]['bndbox']['ymin'],\n",
    "    'width' : annotation['object'][0]['bndbox']['xmax'] - annotation['object'][0]['bndbox']['xmin'],\n",
    "    'height' : annotation['object'][0]['bndbox']['ymax'] - annotation['object'][0]['bndbox']['ymin'],\n",
    "})\n",
    "\n",
    "plt.subplot(1, 2, 2)\n",
    "plt.imshow(img)\n",
    "\n",
    "plt.show()\n",
    "\n"
   ]
  },
  {
   "cell_type": "markdown",
   "metadata": {},
   "source": [
    "# Generate the final image dataset\n",
    "\n",
    "- dataset structure\n",
    "```\n",
    "dataset\n",
    "├── labels\n",
    "│   ├── 0.txt\n",
    "├── images\n",
    "    ├── 0.jpg\n",
    "```\n",
    "\n"
   ]
  },
  {
   "cell_type": "markdown",
   "metadata": {},
   "source": [
    "## Config the environment"
   ]
  },
  {
   "cell_type": "code",
   "execution_count": null,
   "metadata": {},
   "outputs": [],
   "source": [
    "LABEL_FOLDER = './dataset/labels'\n",
    "IMAGE_FOLDER = './dataset/images'\n",
    "\n",
    "TARGET_SIZE = (512, 512)"
   ]
  },
  {
   "cell_type": "code",
   "execution_count": null,
   "metadata": {},
   "outputs": [],
   "source": [
    "# create if not exist and clear folder\n",
    "for folder in [LABEL_FOLDER, IMAGE_FOLDER]:\n",
    "    if not os.path.exists(folder):\n",
    "        os.makedirs(folder)\n",
    "    else:\n",
    "        for file in os.listdir(folder):\n",
    "            os.remove(os.path.join(folder, file))\n"
   ]
  },
  {
   "cell_type": "markdown",
   "metadata": {},
   "source": [
    "## Place card to the background image"
   ]
  },
  {
   "cell_type": "code",
   "execution_count": null,
   "metadata": {},
   "outputs": [],
   "source": [
    "for bg_file in os.listdir('./asset/bg'):\n",
    "    if not bg_file.endswith('.jpg'):\n",
    "        continue\n",
    "    bg = cv2.imread(os.path.join('./asset/bg', bg_file))\n",
    "    bg = cv2.cvtColor(bg, cv2.COLOR_BGR2RGB)\n",
    "    bg = cv2.resize(bg, TARGET_SIZE)\n",
    "\n",
    "    looper = tqdm(os.listdir('./asset/card'), desc=bg_file)\n",
    "    for card_file in looper:\n",
    "        if not card_file.endswith('.jpg'):\n",
    "            pass\n",
    "        card = cv2.imread(os.path.join('./asset/card', card_file))\n",
    "        card = cv2.cvtColor(card, cv2.COLOR_BGR2RGB)\n",
    "    \n",
    "        rotate = np.random.normal(0, 10)\n",
    "        card_scale = np.random.uniform(0.1, 0.4)\n",
    "        placed_image, bounding_block = place_image(bg, card, rotate=rotate, card_scale=card_scale)\n",
    "\n",
    "        # crate label file\n",
    "        label_file = f\"{bg_file.split('.')[0]}_{card_file.split('.')[0]}.txt\"\n",
    "        with open(os.path.join(LABEL_FOLDER, label_file), 'w') as f:\n",
    "            label = 1 if 'pii' in card_file else 0\n",
    "            x_cent = (bounding_block['x'] + bounding_block['width'] / 2) / bg.shape[1]\n",
    "            y_cent = (bounding_block['y'] + bounding_block['height'] / 2) / bg.shape[0]\n",
    "            width = bounding_block['width'] / bg.shape[1]\n",
    "            height = bounding_block['height'] / bg.shape[0]\n",
    "            f.write(f'{label} {x_cent} {y_cent} {width} {height}')\n",
    "\n",
    "        # save image\n",
    "        cv2.imwrite(os.path.join(IMAGE_FOLDER, label_file.replace('.txt', '.jpg')), cv2.cvtColor(placed_image, cv2.COLOR_RGB2BGR))\n"
   ]
  },
  {
   "cell_type": "markdown",
   "metadata": {},
   "source": [
    "### Validate data set"
   ]
  },
  {
   "cell_type": "code",
   "execution_count": null,
   "metadata": {},
   "outputs": [],
   "source": [
    "test_file = '664x38620_enhanced_normal_card1'\n",
    "\n",
    "# load image\n",
    "img = cv2.imread(f'./dataset/images/{test_file}.jpg')\n",
    "\n",
    "# load annotation\n",
    "with open(f'./dataset/labels/{test_file}.txt') as f:\n",
    "    label = f.read()\n",
    "    label, x_cent, y_cent, width, height = label.split(' ')\n",
    "    x_cent = float(x_cent)\n",
    "    y_cent = float(y_cent)\n",
    "    width = float(width)\n",
    "    height = float(height)\n",
    "\n",
    "# draw bounding box\n",
    "img = cv2.rectangle(img, (int((x_cent - width / 2) * img.shape[1]), int((y_cent - height / 2) * img.shape[0])), (int((x_cent + width / 2) * img.shape[1]), int((y_cent + height / 2) * img.shape[0])), (0, 255, 0), 5)\n",
    "\n",
    "plt.imshow(img)\n",
    "plt.show()\n",
    "\n"
   ]
  },
  {
   "cell_type": "markdown",
   "metadata": {},
   "source": [
    "# Place our card to replace the original card image"
   ]
  },
  {
   "cell_type": "code",
   "execution_count": null,
   "metadata": {},
   "outputs": [],
   "source": [
    "looper = tqdm(os.listdir('./asset/visiting_card/id_card'), desc='background image')\n",
    "for bg_file in looper:\n",
    "    if not bg_file.endswith('.jpg'):\n",
    "        continue\n",
    "    \n",
    "    # load image\n",
    "    bg = cv2.imread(os.path.join('./asset/visiting_card/id_card', bg_file))\n",
    "    bg = cv2.cvtColor(bg, cv2.COLOR_BGR2RGB)\n",
    "\n",
    "    # load annotation\n",
    "    annotation = extract_annotation(os.path.join('./asset/visiting_card/annotation/annotation', bg_file.replace('.jpg', '.xml')))\n",
    "    if 'object' not in annotation:\n",
    "        continue\n",
    "    bounding_block = {\n",
    "        'x': int(annotation['object'][0]['bndbox']['xmin']),\n",
    "        'y': int(annotation['object'][0]['bndbox']['ymin']),\n",
    "        'width': int(annotation['object'][0]['bndbox']['xmax'] - annotation['object'][0]['bndbox']['xmin']),\n",
    "        'height': int(annotation['object'][0]['bndbox']['ymax'] - annotation['object'][0]['bndbox']['ymin']),\n",
    "    }\n",
    "\n",
    "    for card_file in os.listdir('./asset/card'):\n",
    "        if not card_file.endswith('.jpg'):\n",
    "            continue\n",
    "        card = cv2.imread(os.path.join('./asset/card', card_file))\n",
    "        card = cv2.cvtColor(card, cv2.COLOR_BGR2RGB)\n",
    "\n",
    "        # resize card to bounding block\n",
    "        card = cv2.resize(card, (int(bounding_block['width']), int(bounding_block['height'])))\n",
    "\n",
    "        # place card\n",
    "        replaced_bg = place_card_to_bb(bg, card, bounding_block)\n",
    "        \n",
    "        # resize image\n",
    "        replaced_bg = cv2.resize(replaced_bg, TARGET_SIZE)\n",
    "        \n",
    "        # save image\n",
    "        cv2.imwrite(os.path.join(IMAGE_FOLDER, f\"{bg_file.replace('.jpg', '')}_{card_file.replace('.jpg', '')}.jpg\"), cv2.cvtColor(replaced_bg, cv2.COLOR_RGB2BGR))\n",
    "        plt.imshow(replaced_bg)\n",
    "\n",
    "        # crate label file\n",
    "        label_file = f\"{bg_file.replace('.jpg', '')}_{card_file.replace('.jpg', '')}.txt\"\n",
    "        with open(os.path.join(LABEL_FOLDER, label_file), 'w') as f:\n",
    "            label = 1 if 'pii' in card_file else 0\n",
    "            x_cent = (bounding_block['x'] + bounding_block['width'] / 2) / bg.shape[1]\n",
    "            y_cent = (bounding_block['y'] + bounding_block['height'] / 2) / bg.shape[0]\n",
    "            width = bounding_block['width'] / bg.shape[1]\n",
    "            height = bounding_block['height'] / bg.shape[0]\n",
    "            f.write(f'{label} {x_cent} {y_cent} {width} {height}')\n"
   ]
  },
  {
   "cell_type": "markdown",
   "metadata": {},
   "source": [
    "## Validate data set"
   ]
  },
  {
   "cell_type": "code",
   "execution_count": null,
   "metadata": {},
   "outputs": [],
   "source": [
    "file_name = '20210613_11_06_09_000_0jKd39aZFrUJQhjwr4kWJ5lPMMF3_F_4160_3120_normal_card1'\n",
    "# load image\n",
    "image = cv2.imread(f'./dataset/images/{file_name}.jpg')\n",
    "image = cv2.cvtColor(image, cv2.COLOR_BGR2RGB)\n",
    "\n",
    "# load label\n",
    "with open(f'./dataset/labels/{file_name}.txt') as f:\n",
    "    label = f.read()\n",
    "    label, x_cent, y_cent, width, height = label.split(' ')\n",
    "    x_cent = float(x_cent)\n",
    "    y_cent = float(y_cent)\n",
    "    width = float(width)\n",
    "    height = float(height)\n",
    "\n",
    "# draw bounding box\n",
    "image = cv2.rectangle(image, (int((x_cent - width / 2) * image.shape[1]), int((y_cent - height / 2) * image.shape[0])), (int((x_cent + width / 2) * image.shape[1]), int((y_cent + height / 2) * image.shape[0])), (0, 255, 0), 5)\n",
    "\n",
    "plt.imshow(image)\n",
    "plt.show()\n"
   ]
  },
  {
   "cell_type": "markdown",
   "metadata": {},
   "source": [
    "## No card image"
   ]
  },
  {
   "cell_type": "code",
   "execution_count": null,
   "metadata": {},
   "outputs": [],
   "source": [
    "looper = tqdm(os.listdir('./asset/bg/'), desc='background image')\n",
    "for bg_file in looper:\n",
    "    if not bg_file.endswith('.jpg'):\n",
    "        continue\n",
    "    bg = cv2.imread(os.path.join('./asset/bg', bg_file))\n",
    "    bg = cv2.cvtColor(bg, cv2.COLOR_BGR2RGB)\n",
    "    bg = cv2.resize(bg, TARGET_SIZE)\n",
    "\n",
    "    # save image\n",
    "    cv2.imwrite(os.path.join(IMAGE_FOLDER, f\"{bg_file.replace('.jpg', '')}.jpg\"), cv2.cvtColor(bg, cv2.COLOR_RGB2BGR))\n",
    "\n",
    "    # crate label file\n",
    "    label_file = f\"{bg_file.replace('.jpg', '')}.txt\"\n",
    "    with open(os.path.join(LABEL_FOLDER, label_file), 'w') as f:\n",
    "        f.write('')\n"
   ]
  },
  {
   "cell_type": "markdown",
   "metadata": {},
   "source": [
    "# Dataset summary"
   ]
  },
  {
   "cell_type": "code",
   "execution_count": null,
   "metadata": {},
   "outputs": [],
   "source": [
    "def show_dict(d, t = ''):\n",
    "    for key in d:\n",
    "        print(t + key, end = ' ')\n",
    "        if type(d[key]) == dict:\n",
    "            show_dict(d[key], t + '\\t')\n",
    "        else:\n",
    "            print(':' + str(d[key]))"
   ]
  },
  {
   "cell_type": "code",
   "execution_count": null,
   "metadata": {},
   "outputs": [],
   "source": [
    "info = {\n",
    "    'class' : {\n",
    "        '0' : 0,\n",
    "        '1' : 0,\n",
    "    },\n",
    "}\n",
    "for label in os.listdir('./dataset/labels'):\n",
    "    with open(os.path.join('./dataset/labels', label)) as f:\n",
    "        label = f.read()\n",
    "        label, x_cent, y_cent, width, height = label.split(' ')\n",
    "        x_cent = float(x_cent)\n",
    "        y_cent = float(y_cent)\n",
    "        width = float(width)\n",
    "        height = float(height)\n",
    "        \n",
    "        info['class'][label] += 1\n",
    "\n",
    "show_dict(info)"
   ]
  },
  {
   "cell_type": "code",
   "execution_count": null,
   "metadata": {},
   "outputs": [],
   "source": []
  }
 ],
 "metadata": {
  "kernelspec": {
   "display_name": "auto-blur-pii",
   "language": "python",
   "name": "python3"
  },
  "language_info": {
   "codemirror_mode": {
    "name": "ipython",
    "version": 3
   },
   "file_extension": ".py",
   "mimetype": "text/x-python",
   "name": "python",
   "nbconvert_exporter": "python",
   "pygments_lexer": "ipython3",
   "version": "3.9.18"
  }
 },
 "nbformat": 4,
 "nbformat_minor": 2
}
